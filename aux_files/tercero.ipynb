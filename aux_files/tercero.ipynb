{
 "cells": [
  {
   "cell_type": "code",
   "execution_count": 57,
   "metadata": {},
   "outputs": [],
   "source": [
    "#Primeras pruebas con mongodb\n",
    "#Archivo de guia\n",
    "#https://www.youtube.com/watch?v=pJO5gKxzsco"
   ]
  },
  {
   "cell_type": "code",
   "execution_count": 103,
   "metadata": {},
   "outputs": [],
   "source": [
    "from pymongo import MongoClient\n",
    "client = MongoClient('localhost',27017)\n",
    "db = client['musica']\n",
    "col = db['Albums']"
   ]
  },
  {
   "cell_type": "code",
   "execution_count": 104,
   "metadata": {},
   "outputs": [
    {
     "name": "stdout",
     "output_type": "stream",
     "text": [
      "databases: ['admin', 'config', 'local', 'musica', 'prueba']\n",
      "colecciones: ['Albums']\n"
     ]
    }
   ],
   "source": [
    "#col.drop()\n",
    "print(\"databases:\",client.list_database_names())\n",
    "print(\"colecciones:\",db.list_collection_names())"
   ]
  },
  {
   "cell_type": "code",
   "execution_count": 38,
   "metadata": {},
   "outputs": [],
   "source": [
    "registro = {\"nombre\":\"jorge\",\"intereses\":[\"dato1\",\"dato2\"]}\n",
    "registro2 = {\"nombre\":\"javier\",\"intereses\":[\"dato3\",\"dato4\"]}"
   ]
  },
  {
   "cell_type": "code",
   "execution_count": 39,
   "metadata": {},
   "outputs": [
    {
     "data": {
      "text/plain": [
       "<pymongo.results.InsertOneResult at 0x7fdc04de9f48>"
      ]
     },
     "execution_count": 39,
     "metadata": {},
     "output_type": "execute_result"
    }
   ],
   "source": [
    "#inserto un documento (registro)\n",
    "col.insert_one(registro)"
   ]
  },
  {
   "cell_type": "code",
   "execution_count": 99,
   "metadata": {},
   "outputs": [
    {
     "data": {
      "text/plain": [
       "<pymongo.results.InsertManyResult at 0x7fdbded7ef88>"
      ]
     },
     "execution_count": 99,
     "metadata": {},
     "output_type": "execute_result"
    }
   ],
   "source": [
    "#insertar varios registros, debe ser una lista\n",
    "col.insert_many(\n",
    "[\n",
    "    \n",
    "]\n",
    ")"
   ]
  },
  {
   "cell_type": "code",
   "execution_count": 100,
   "metadata": {},
   "outputs": [
    {
     "data": {
      "text/plain": [
       "5"
      ]
     },
     "execution_count": 100,
     "metadata": {},
     "output_type": "execute_result"
    }
   ],
   "source": [
    "#Recuento de documentos en la colección, cuantos registros tienen\n",
    "col.count_documents({})"
   ]
  },
  {
   "cell_type": "code",
   "execution_count": 4,
   "metadata": {},
   "outputs": [
    {
     "data": {
      "text/plain": [
       "{'_id': ObjectId('60895dc674a10101581cabc8'), 'edad': 20, 'nombre': 'Leonardo'}"
      ]
     },
     "execution_count": 4,
     "metadata": {},
     "output_type": "execute_result"
    }
   ],
   "source": [
    "#imprimir un documento\n",
    "col.find_one({})"
   ]
  },
  {
   "cell_type": "code",
   "execution_count": 101,
   "metadata": {},
   "outputs": [
    {
     "name": "stdout",
     "output_type": "stream",
     "text": [
      "{'_id': ObjectId('608b46349d37ee649bc11643'), 'Title': 'Graceland', 'AlbumId': 'Album1', 'PrimaryArtistIds': ['artist1']}\n",
      "{'_id': ObjectId('608b46349d37ee649bc11644'), 'Title': 'Julia Fordham', 'AlbumId': 'Album2', 'PrimaryArtistIds': ['artist2']}\n",
      "{'_id': ObjectId('608b46349d37ee649bc11645'), 'Title': 'Falling Forward', 'AlbumId': 'Album3', 'PrimaryArtistIds': ['artist2']}\n",
      "{'_id': ObjectId('608b46349d37ee649bc11646'), 'Title': 'Bridge over Troubled Water', 'ArtistName': 'Simon and Garfunkel', 'AlbumId': 'Album4', 'PrimaryArtistIds': ['artist4']}\n",
      "{'_id': ObjectId('608b46349d37ee649bc11647'), 'Title': 'Jazz', 'AlbumId': 'Album5', 'PrimaryArtistIds': ['artist5']}\n"
     ]
    }
   ],
   "source": [
    "#Recorrer todos los documentos\n",
    "for documento in col.find({}):\n",
    "    print(documento)"
   ]
  },
  {
   "cell_type": "code",
   "execution_count": null,
   "metadata": {},
   "outputs": [],
   "source": []
  },
  {
   "cell_type": "code",
   "execution_count": null,
   "metadata": {},
   "outputs": [],
   "source": []
  }
 ],
 "metadata": {
  "kernelspec": {
   "display_name": "Python 3",
   "language": "python",
   "name": "python3"
  },
  "language_info": {
   "codemirror_mode": {
    "name": "ipython",
    "version": 3
   },
   "file_extension": ".py",
   "mimetype": "text/x-python",
   "name": "python",
   "nbconvert_exporter": "python",
   "pygments_lexer": "ipython3",
   "version": "3.6.9"
  }
 },
 "nbformat": 4,
 "nbformat_minor": 4
}
