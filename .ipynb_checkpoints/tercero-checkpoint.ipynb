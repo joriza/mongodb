{
 "cells": [
  {
   "cell_type": "code",
   "execution_count": 57,
   "metadata": {},
   "outputs": [],
   "source": [
    "#Primeras pruebas con mongodb\n",
    "#Archivo de guia\n",
    "#https://www.youtube.com/watch?v=pJO5gKxzsco"
   ]
  },
  {
   "cell_type": "code",
   "execution_count": 1,
   "metadata": {},
   "outputs": [],
   "source": [
    "from pymongo import MongoClient\n",
    "client = MongoClient('localhost',27017)\n",
    "db = client['prueba']\n",
    "col = db['personas']"
   ]
  },
  {
   "cell_type": "code",
   "execution_count": 2,
   "metadata": {},
   "outputs": [
    {
     "name": "stdout",
     "output_type": "stream",
     "text": [
      "databases: ['admin', 'config', 'local', 'prueba']\n",
      "colecciones: ['personas']\n"
     ]
    }
   ],
   "source": [
    "print(\"databases:\",client.list_database_names())\n",
    "print(\"colecciones:\",db.list_collection_names())"
   ]
  },
  {
   "cell_type": "code",
   "execution_count": 38,
   "metadata": {},
   "outputs": [],
   "source": [
    "registro = {\"nombre\":\"jorge\",\"intereses\":[\"dato1\",\"dato2\"]}\n",
    "registro2 = {\"nombre\":\"javier\",\"intereses\":[\"dato3\",\"dato4\"]}"
   ]
  },
  {
   "cell_type": "code",
   "execution_count": 39,
   "metadata": {},
   "outputs": [
    {
     "data": {
      "text/plain": [
       "<pymongo.results.InsertOneResult at 0x7fdc04de9f48>"
      ]
     },
     "execution_count": 39,
     "metadata": {},
     "output_type": "execute_result"
    }
   ],
   "source": [
    "#inserto un documento (registro)\n",
    "col.insert_one(registro)"
   ]
  },
  {
   "cell_type": "code",
   "execution_count": 34,
   "metadata": {},
   "outputs": [
    {
     "data": {
      "text/plain": [
       "<pymongo.results.InsertManyResult at 0x7fdbf40b6c48>"
      ]
     },
     "execution_count": 34,
     "metadata": {},
     "output_type": "execute_result"
    }
   ],
   "source": [
    "#insertar varios registros, debe ser una lista\n",
    "col.insert_many([registro,registro2])"
   ]
  },
  {
   "cell_type": "code",
   "execution_count": 40,
   "metadata": {},
   "outputs": [
    {
     "data": {
      "text/plain": [
       "17"
      ]
     },
     "execution_count": 40,
     "metadata": {},
     "output_type": "execute_result"
    }
   ],
   "source": [
    "#Recuento de documentos en la colección, cuantos registros tienen\n",
    "col.count_documents({})"
   ]
  },
  {
   "cell_type": "code",
   "execution_count": 4,
   "metadata": {},
   "outputs": [
    {
     "data": {
      "text/plain": [
       "{'_id': ObjectId('60895dc674a10101581cabc8'), 'edad': 20, 'nombre': 'Leonardo'}"
      ]
     },
     "execution_count": 4,
     "metadata": {},
     "output_type": "execute_result"
    }
   ],
   "source": [
    "#imprimir un documento\n",
    "col.find_one({})"
   ]
  },
  {
   "cell_type": "code",
   "execution_count": 41,
   "metadata": {},
   "outputs": [
    {
     "name": "stdout",
     "output_type": "stream",
     "text": [
      "{'_id': ObjectId('60895dc674a10101581cabc8'), 'edad': 20, 'nombre': 'Leonardo'}\n",
      "{'_id': ObjectId('60895e4874a10101581cabc9'), 'edad': 20, 'nombre': 'Leonardo', 'apellido': 'sbaragliz'}\n",
      "{'_id': 21735582, 'edad': 20, 'nombre': 'Leonardo', 'apellido': 'sbaragliz'}\n",
      "{'_id': 21735583, 'edad': 20, 'nombre': 'Leonardo', 'apellido': 'sbaragliz'}\n",
      "{'_id': 21735584, 'edad': 20, 'nombre': 'Leonardo', 'apellido': 'sbaragliz'}\n",
      "{'_id': ObjectId('608b3dacd9e2ff870fee52dc'), 'nombre': 'jorge', 'intereses': ['dato1', 'dato2']}\n",
      "{'_id': ObjectId('608b3db7a21b96d4b9dd7067'), 'nombre': 'jorge', 'intereses': ['dato1', 'dato2']}\n",
      "{'_id': ObjectId('608b3dbf826a83a985e3cdd4'), 'nombre': 'jorge', 'intereses': ['dato1', 'dato2']}\n",
      "{'_id': ObjectId('608b3dc087cdb41d2d1f1667'), 'nombre': 'jorge', 'intereses': ['dato1', 'dato2']}\n",
      "{'_id': ObjectId('608b3e4c9d37ee649bc11602'), 'nombre': 'jorge', 'intereses': ['dato1', 'dato2']}\n",
      "{'_id': ObjectId('608b3f519d37ee649bc11603'), 'nombre': 'jorge', 'intereses': ['dato1', 'dato2']}\n",
      "{'_id': ObjectId('608b3f519d37ee649bc11604'), 'nombre': 'javier', 'intereses': ['dato3', 'dato4']}\n",
      "{'_id': ObjectId('608b3f819d37ee649bc11605'), 'nombre': 'jorge', 'intereses': ['dato1', 'dato2']}\n",
      "{'_id': ObjectId('608b3f999d37ee649bc11607'), 'nombre': 'jorge', 'intereses': ['dato1', 'dato2']}\n",
      "{'_id': ObjectId('608b3fbb9d37ee649bc11609'), 'nombre': 'jorge', 'intereses': ['dato1', 'dato2']}\n",
      "{'_id': ObjectId('608b3fbb9d37ee649bc1160a'), 'nombre': 'javier', 'intereses': ['dato3', 'dato4']}\n",
      "{'_id': ObjectId('608b3ffa9d37ee649bc1160b'), 'nombre': 'jorge', 'intereses': ['dato1', 'dato2']}\n"
     ]
    }
   ],
   "source": [
    "#Recorrer todos los documentos\n",
    "for documento in col.find({}):\n",
    "    print(documento)"
   ]
  },
  {
   "cell_type": "code",
   "execution_count": null,
   "metadata": {},
   "outputs": [],
   "source": []
  },
  {
   "cell_type": "code",
   "execution_count": null,
   "metadata": {},
   "outputs": [],
   "source": []
  }
 ],
 "metadata": {
  "kernelspec": {
   "display_name": "Python 3",
   "language": "python",
   "name": "python3"
  },
  "language_info": {
   "codemirror_mode": {
    "name": "ipython",
    "version": 3
   },
   "file_extension": ".py",
   "mimetype": "text/x-python",
   "name": "python",
   "nbconvert_exporter": "python",
   "pygments_lexer": "ipython3",
   "version": "3.6.9"
  }
 },
 "nbformat": 4,
 "nbformat_minor": 4
}
